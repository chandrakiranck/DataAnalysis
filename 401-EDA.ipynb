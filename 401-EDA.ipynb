{
 "cells": [
  {
   "cell_type": "markdown",
   "metadata": {},
   "source": [
    "# 07/15"
   ]
  },
  {
   "cell_type": "markdown",
   "metadata": {},
   "source": [
    "## Types of Data"
   ]
  },
  {
   "cell_type": "markdown",
   "metadata": {},
   "source": [
    "### Quantitave Data - numerical values\n",
    "1. Discrete\n",
    "    - age\n",
    "2. Continuous\n",
    "    - height, weight\n",
    "\n",
    "\n",
    "1. Ratio\n",
    "2. Interval - numericla bandwidth\n",
    "    - age categories"
   ]
  },
  {
   "cell_type": "markdown",
   "metadata": {},
   "source": [
    "### Qualitative Data - categroical values\n",
    "- Nominal - no order\n",
    "    - gender, cities\n",
    "- Ordinal - can be ordered\n",
    "    - rating, cities based on population"
   ]
  },
  {
   "cell_type": "markdown",
   "metadata": {},
   "source": [
    "## Measures of Central Tendency\n",
    "\n",
    "- Mean\n",
    "    - sum / count\n",
    "    - calculated value and hence can be disotorted by outliers(very small and very big values)\n",
    "- Median\n",
    "    - middle value\n",
    "    - positional value and hence is not distorted by outliers\n",
    "- Mode\n",
    "    - most frequent value"
   ]
  },
  {
   "cell_type": "markdown",
   "metadata": {},
   "source": [
    "## Measures of Dispersion\n",
    "- Variance (mean of squares of deviation from mean)\n",
    "- Standard Deviation (sqrt of variance)\n",
    "- Absolute deviation (sum of absolute deviations from mean)\n",
    "- Mean Abs Deviation (mean of absolute deviations from mean)\n",
    "- Range (max - min)\n",
    "- Inter Quartile Range (Q3 - Q1)"
   ]
  },
  {
   "cell_type": "markdown",
   "metadata": {},
   "source": [
    "## Skew\n",
    "- measure of symmetry"
   ]
  },
  {
   "cell_type": "markdown",
   "metadata": {},
   "source": [
    "## Kurtosis\n",
    "- measure of peaks"
   ]
  },
  {
   "cell_type": "markdown",
   "metadata": {},
   "source": [
    "## Z-Score\n",
    "- error from mean per s.d"
   ]
  },
  {
   "cell_type": "code",
   "execution_count": null,
   "metadata": {},
   "outputs": [],
   "source": []
  }
 ],
 "metadata": {
  "kernelspec": {
   "display_name": "Python 3",
   "language": "python",
   "name": "python3"
  },
  "language_info": {
   "codemirror_mode": {
    "name": "ipython",
    "version": 3
   },
   "file_extension": ".py",
   "mimetype": "text/x-python",
   "name": "python",
   "nbconvert_exporter": "python",
   "pygments_lexer": "ipython3",
   "version": "3.7.3"
  },
  "toc": {
   "base_numbering": 1,
   "nav_menu": {},
   "number_sections": false,
   "sideBar": true,
   "skip_h1_title": true,
   "title_cell": "Table of Contents",
   "title_sidebar": "Contents",
   "toc_cell": false,
   "toc_position": {
    "height": "calc(100% - 180px)",
    "left": "10px",
    "top": "150px",
    "width": "223.333px"
   },
   "toc_section_display": true,
   "toc_window_display": false
  }
 },
 "nbformat": 4,
 "nbformat_minor": 2
}
